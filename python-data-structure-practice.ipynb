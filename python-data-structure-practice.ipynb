{
 "cells": [
  {
   "cell_type": "code",
   "execution_count": 46,
   "metadata": {},
   "outputs": [
    {
     "name": "stdout",
     "output_type": "stream",
     "text": [
      "2\n",
      "True\n",
      "False\n"
     ]
    }
   ],
   "source": [
    "#Two-sum\n",
    "\n",
    "#Given a list of numbers, and a target number k. Return whether or not there are two numbers in the list that add up to k.\n",
    "\n",
    "def two_sum(numbers, k):\n",
    "    numbers.sort\n",
    "    \n",
    "    for integer in numbers:\n",
    "        if k - integer in numbers and integer != (k - integer):\n",
    "            return True\n",
    "    \n",
    "    return False\n",
    "\n",
    "\n",
    "print(two_sum([9,7,1,3,12,2], 5))\n",
    "print(two_sum([9,7,1,12,2], 4))"
   ]
  },
  {
   "cell_type": "code",
   "execution_count": 43,
   "metadata": {},
   "outputs": [
    {
     "name": "stdout",
     "output_type": "stream",
     "text": [
      "5\n"
     ]
    }
   ],
   "source": [
    "#Find the non-duplicate number\n",
    "\n",
    "#Given a list of numbers, where every number shows up twice except for one number, find that one number.\n",
    "\n",
    "def singleNumber(nums):\n",
    "    nums.sort()\n",
    "    index = 0\n",
    "    \n",
    "    while index < len(nums):\n",
    "        if nums[index] in nums[index+1:len(nums)]:\n",
    "            index+=2\n",
    "        else:\n",
    "            return nums[index]\n",
    "            \n",
    "\n",
    "print(singleNumber([4, 3, 2, 4, 5, 6, 6, 3, 2]))\n",
    "# 5\n"
   ]
  },
  {
   "cell_type": "code",
   "execution_count": 54,
   "metadata": {},
   "outputs": [
    {
     "name": "stdout",
     "output_type": "stream",
     "text": [
      "True\n"
     ]
    }
   ],
   "source": [
    "#Find Pythagorean Triplets\n",
    "\n",
    "#Given a list of numbers, find if there exists a pythagorean triplet in that list.\n",
    "\n",
    "import math\n",
    "\n",
    "def findPythagoreanTriplets(nums):\n",
    "    nums.sort()\n",
    "    \n",
    "    for index in range(len(nums)):\n",
    "        third_number_squared = nums[index]^2 + nums[index+1]^2\n",
    "        third_number = math.sqrt(third_number_squared)\n",
    "        if third_number in nums:\n",
    "            return True\n",
    "        \n",
    "    return False\n",
    "\n",
    "print(findPythagoreanTriplets([3, 12, 5, 13]))\n",
    "# True"
   ]
  },
  {
   "cell_type": "code",
   "execution_count": 58,
   "metadata": {},
   "outputs": [
    {
     "name": "stdout",
     "output_type": "stream",
     "text": [
      "128\n"
     ]
    }
   ],
   "source": [
    "#Largest Product of 3 Elements\n",
    "\n",
    "#You are given an array of integers. Return the largest product that can be made by multiplying any 3 integers in the array.\n",
    "\n",
    "#Naive approach\n",
    "def maximum_product_of_three(nums):\n",
    "    current_maximum = 0\n",
    "    \n",
    "    for first_number in range(len(nums)):\n",
    "        for second_number in range(len(nums[1:])):\n",
    "            for third_number in range(len(nums[2:])):\n",
    "                product = nums[first_number] * nums[second_number] * nums[third_number]\n",
    "                if product > current_maximum:\n",
    "                    current_maximum = product\n",
    "    return current_maximum\n",
    "\n",
    "print(maximum_product_of_three([-4, -4, 2, 8]))\n",
    "# 128"
   ]
  },
  {
   "cell_type": "code",
   "execution_count": null,
   "metadata": {},
   "outputs": [],
   "source": []
  }
 ],
 "metadata": {
  "kernelspec": {
   "display_name": "Python 3",
   "language": "python",
   "name": "python3"
  },
  "language_info": {
   "codemirror_mode": {
    "name": "ipython",
    "version": 3
   },
   "file_extension": ".py",
   "mimetype": "text/x-python",
   "name": "python",
   "nbconvert_exporter": "python",
   "pygments_lexer": "ipython3",
   "version": "3.8.2"
  }
 },
 "nbformat": 4,
 "nbformat_minor": 4
}
